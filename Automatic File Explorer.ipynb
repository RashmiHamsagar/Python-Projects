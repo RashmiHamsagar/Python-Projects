{
 "cells": [
  {
   "cell_type": "code",
   "execution_count": 21,
   "id": "30e51540-f872-41c0-a2df-4b1197527dd7",
   "metadata": {},
   "outputs": [],
   "source": [
    "import os, shutil\n"
   ]
  },
  {
   "cell_type": "code",
   "execution_count": 55,
   "id": "0e775cf0-b1b1-46bc-8ad0-1c876b8c2181",
   "metadata": {},
   "outputs": [],
   "source": [
    "path= r\"C:/Users/hvras/OneDrive/Desktop/Automatic File Explorer/\""
   ]
  },
  {
   "cell_type": "code",
   "execution_count": 57,
   "id": "2f262556-2e4e-4612-8226-c922542bb09d",
   "metadata": {},
   "outputs": [],
   "source": [
    "file_name=os.listdir(path)"
   ]
  },
  {
   "cell_type": "code",
   "execution_count": 59,
   "id": "6eb3d569-276c-427b-a45d-0fd978a6762f",
   "metadata": {},
   "outputs": [],
   "source": [
    "folder_names = ['csv files', 'image files', 'text files']\n",
    "for loop in range(0,3):\n",
    "  if not os.path.exists(path + folder_names[loop]):\n",
    "    print(path + folder_names[loop])\n",
    "    os.makedirs(path + folder_names[loop])\n",
    "\n",
    "for file in file_name:\n",
    "    if \".csv\" in file and not os.path.exists(path +\"csv files/\" +file ):\n",
    "        shutil.move(path + file, path + \"csv files/\" + file)\n",
    "    elif \".png\" in file and not os.path.exists(path +\"image files/\" +file ):\n",
    "        shutil.move(path + file, path + \"image files/\" + file)\n",
    "    if \".txt\" in file and not os.path.exists(path +\"text files/\" +file ):\n",
    "        shutil.move(path + file, path + \"text files/\" + file)"
   ]
  },
  {
   "cell_type": "code",
   "execution_count": null,
   "id": "cdd66769-a04b-4b3e-8580-8a4b9dce49ac",
   "metadata": {},
   "outputs": [],
   "source": [
    "\n",
    "   \n",
    "        "
   ]
  },
  {
   "cell_type": "code",
   "execution_count": null,
   "id": "b4343299-0c2a-47e3-a189-8fa8ff607b57",
   "metadata": {},
   "outputs": [],
   "source": []
  },
  {
   "cell_type": "code",
   "execution_count": null,
   "id": "fa1bd9b6-0ac4-4f46-8580-7d869aca0b3c",
   "metadata": {},
   "outputs": [],
   "source": []
  },
  {
   "cell_type": "code",
   "execution_count": null,
   "id": "96e5fff4-2979-44ad-8008-00b0918182d9",
   "metadata": {},
   "outputs": [],
   "source": []
  },
  {
   "cell_type": "code",
   "execution_count": null,
   "id": "4f185c10-6140-4b10-8079-d88f29ac2bb1",
   "metadata": {},
   "outputs": [],
   "source": []
  },
  {
   "cell_type": "code",
   "execution_count": null,
   "id": "c6e0e694-e062-4669-ac04-1866e643455d",
   "metadata": {},
   "outputs": [],
   "source": []
  },
  {
   "cell_type": "code",
   "execution_count": null,
   "id": "fb22963e-a828-4176-8aa8-7cac623bc489",
   "metadata": {},
   "outputs": [],
   "source": []
  },
  {
   "cell_type": "code",
   "execution_count": null,
   "id": "3743af47-4834-43ed-9383-7acfbc5c4f88",
   "metadata": {},
   "outputs": [],
   "source": []
  },
  {
   "cell_type": "code",
   "execution_count": null,
   "id": "89448f5d-bc0b-49ce-a25d-2ed0e6660f42",
   "metadata": {},
   "outputs": [],
   "source": []
  },
  {
   "cell_type": "code",
   "execution_count": null,
   "id": "081c38cb-e336-4cfe-aa81-0254c1bfc0e8",
   "metadata": {},
   "outputs": [],
   "source": []
  },
  {
   "cell_type": "code",
   "execution_count": null,
   "id": "b31e3a3c-7eaf-45ca-a316-d44c91ea8e76",
   "metadata": {},
   "outputs": [],
   "source": []
  },
  {
   "cell_type": "code",
   "execution_count": null,
   "id": "9eab62db-57e0-444c-9d10-bd77fd4aae4a",
   "metadata": {},
   "outputs": [],
   "source": []
  }
 ],
 "metadata": {
  "kernelspec": {
   "display_name": "Python [conda env:base] *",
   "language": "python",
   "name": "conda-base-py"
  },
  "language_info": {
   "codemirror_mode": {
    "name": "ipython",
    "version": 3
   },
   "file_extension": ".py",
   "mimetype": "text/x-python",
   "name": "python",
   "nbconvert_exporter": "python",
   "pygments_lexer": "ipython3",
   "version": "3.12.7"
  }
 },
 "nbformat": 4,
 "nbformat_minor": 5
}
