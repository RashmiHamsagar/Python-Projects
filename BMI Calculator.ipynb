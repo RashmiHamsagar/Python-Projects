{
 "cells": [
  {
   "cell_type": "code",
   "execution_count": null,
   "id": "ca582c32-20f3-4661-a33f-f442474f5285",
   "metadata": {},
   "outputs": [],
   "source": []
  },
  {
   "cell_type": "code",
   "execution_count": 75,
   "id": "e6475649-ae95-475d-b846-d9aa557ea592",
   "metadata": {},
   "outputs": [
    {
     "name": "stdin",
     "output_type": "stream",
     "text": [
      "Please Enter your name : Rashmi\n",
      "Please Enter your weight in pounds:  139\n",
      "Please Enter your height in inches:  59\n"
     ]
    },
    {
     "name": "stdout",
     "output_type": "stream",
     "text": [
      "Rashmi, your BMI is: 28.071531169204253\n",
      "Rashmi, you are Overweight\n"
     ]
    }
   ],
   "source": [
    "name = input(\"Please Enter your name :\")\n",
    "weight = int(input(\"Please Enter your weight in pounds: \"))\n",
    "height = int(input(\"Please Enter your height in inches: \"))\n",
    "\n",
    "BMI = (weight * 703) / (height * height)\n",
    "print(name +\", your BMI is:\" , BMI)\n",
    "\n",
    "if BMI>0:\n",
    "    if (BMI<18.5):\n",
    "        print(name +\", you are Under Weight.\")\n",
    "    elif(BMI <= 24.9):\n",
    "        print(name +\", you are Normal Weight\")\n",
    "    elif(BMI<=29.9):\n",
    "        print(name +\", you are Overweight\")\n",
    "    elif(BMI<=34.9):\n",
    "        print(name +\", you are Obese\")\n",
    "    elif(BMI<=39.9):\n",
    "        print(name +\", you are Severely Obese\")\n",
    "    else:\n",
    "        print(name +\", you are morbidly Obese\")\n",
    "else:\n",
    "    print(\"Enter Valid Inputs:\")"
   ]
  },
  {
   "cell_type": "code",
   "execution_count": null,
   "id": "1da6a8d0-61d0-43a3-86e0-17dfe3541d7c",
   "metadata": {},
   "outputs": [],
   "source": []
  },
  {
   "cell_type": "code",
   "execution_count": null,
   "id": "fa98038e-31e9-4862-93cc-c9d63a18f9af",
   "metadata": {},
   "outputs": [],
   "source": [
    "#BMI = (weight in pounds x 703) / (height in inches x height in inches)"
   ]
  },
  {
   "cell_type": "code",
   "execution_count": null,
   "id": "680fb339-b9b6-4649-bbf4-918ed8f0ae81",
   "metadata": {},
   "outputs": [],
   "source": [
    "Under 18.5\tUnderweight\tMinimal\n",
    "18.5 - 24.9\tNormal Weight\tMinimal\n",
    "25 - 29.9\tOverweight\tIncreased\n",
    "30 - 34.9\tObese\tHigh\n",
    "35 - 39.9\tSeverely Obese\tVery High\n",
    "40 and over\tMorbidly Obese\tExtremely High"
   ]
  },
  {
   "cell_type": "code",
   "execution_count": null,
   "id": "1030b6fa-8a1d-4463-acc5-7687feffcd13",
   "metadata": {},
   "outputs": [],
   "source": []
  },
  {
   "cell_type": "code",
   "execution_count": null,
   "id": "aba619bc-1552-4400-959c-4ccf2dff662e",
   "metadata": {},
   "outputs": [],
   "source": []
  },
  {
   "cell_type": "code",
   "execution_count": null,
   "id": "5b193345-23c8-4074-ac9a-f5e403f55d94",
   "metadata": {},
   "outputs": [],
   "source": []
  },
  {
   "cell_type": "code",
   "execution_count": null,
   "id": "4b17061a-b930-47ef-9919-c72db00210b7",
   "metadata": {},
   "outputs": [],
   "source": []
  },
  {
   "cell_type": "code",
   "execution_count": null,
   "id": "b919752c-4462-4667-b6a0-b026d324a0d3",
   "metadata": {},
   "outputs": [],
   "source": []
  },
  {
   "cell_type": "code",
   "execution_count": null,
   "id": "c8bb5575-15ae-4caa-b5b1-f61ad990b220",
   "metadata": {},
   "outputs": [],
   "source": []
  },
  {
   "cell_type": "code",
   "execution_count": null,
   "id": "569591d1-3e2d-4d12-b263-3f2605f30577",
   "metadata": {},
   "outputs": [],
   "source": []
  },
  {
   "cell_type": "code",
   "execution_count": null,
   "id": "04179ad0-e0ef-4f93-a20c-5152df472465",
   "metadata": {},
   "outputs": [],
   "source": []
  },
  {
   "cell_type": "code",
   "execution_count": null,
   "id": "224365ff-7d39-4823-a59b-e942b18196b7",
   "metadata": {},
   "outputs": [],
   "source": []
  },
  {
   "cell_type": "code",
   "execution_count": null,
   "id": "60bf70a9-8736-4a73-8e5f-a3e9b3ddfcdd",
   "metadata": {},
   "outputs": [],
   "source": []
  }
 ],
 "metadata": {
  "kernelspec": {
   "display_name": "Python [conda env:base] *",
   "language": "python",
   "name": "conda-base-py"
  },
  "language_info": {
   "codemirror_mode": {
    "name": "ipython",
    "version": 3
   },
   "file_extension": ".py",
   "mimetype": "text/x-python",
   "name": "python",
   "nbconvert_exporter": "python",
   "pygments_lexer": "ipython3",
   "version": "3.12.7"
  }
 },
 "nbformat": 4,
 "nbformat_minor": 5
}
